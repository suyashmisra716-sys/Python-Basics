{
  "nbformat": 4,
  "nbformat_minor": 0,
  "metadata": {
    "colab": {
      "provenance": []
    },
    "kernelspec": {
      "name": "python3",
      "display_name": "Python 3"
    },
    "language_info": {
      "name": "python"
    }
  },
  "cells": [
    {
      "cell_type": "markdown",
      "source": [
        "Python Basics\n",
        "\n",
        "1.What is Pyhton and why is it popular?\n",
        "- Python is a high-level, interpreted programming language known for its simplicity and readability.Python is popular because it's easy to learn, powerful, and versatile — backed by a strong ecosystem and community.\n",
        "\n"
      ],
      "metadata": {
        "id": "ys6ceOUS2abL"
      }
    },
    {
      "cell_type": "markdown",
      "source": [
        "2.What is an interpreter in Python?\n",
        "- In Python, an interpreter is a program that reads and executes your Python code line by line."
      ],
      "metadata": {
        "id": "jbcwjNRV2kGl"
      }
    },
    {
      "cell_type": "markdown",
      "source": [
        "3.What are pre-defined keywords in Python?\n",
        "- Pre-defined keywords (often just called keywords) in Python are reserved words that have special meaning in the language. You cannot use them as variable names, function names, or identifiers, because they are part of Python's syntax and grammar."
      ],
      "metadata": {
        "id": "iPDDo28U5BSk"
      }
    },
    {
      "cell_type": "markdown",
      "source": [
        "4.Can keywords be used as variable names?\n",
        "- No, keywords cannot be used as variable names in Python."
      ],
      "metadata": {
        "id": "CZ97Xldp9FNk"
      }
    },
    {
      "cell_type": "markdown",
      "source": [
        "5.What is mutability in Python?\n",
        "- Mutability refers to whether or not an object’s value can be changed after it is created."
      ],
      "metadata": {
        "id": "RVBWJ0aG9iSQ"
      }
    },
    {
      "cell_type": "markdown",
      "source": [
        "6.Why are lists mutable, but tuples are immutable?\n",
        "- Lists are mutable because they are designed to be dynamic — you can add, remove, or change elements.\n",
        " Tuples are immutable because they are meant to be fixed collections — once created, their contents cannot be changed."
      ],
      "metadata": {
        "id": "wDp_sJWH-EhT"
      }
    },
    {
      "cell_type": "markdown",
      "source": [
        "7.What is the difference between “==” and “is” operators in Python?\n",
        "- == → Equality Operator\n",
        "\n",
        "Checks if two variables have the same value, regardless of whether they are the same object.\n",
        "\n",
        "is → Identity Operator\n",
        "\n",
        "Checks if two variables point to the same object in memory (same identity)."
      ],
      "metadata": {
        "id": "qj_obWoN_f3o"
      }
    },
    {
      "cell_type": "markdown",
      "source": [
        "8.What are logical operators in Python?\n",
        "- Logical operators are used to combine conditional statements or Boolean expressions and return a Boolean value (True or False)."
      ],
      "metadata": {
        "id": "hIUew9SoAV8N"
      }
    },
    {
      "cell_type": "markdown",
      "source": [
        "9.What is type casting in Python?\n",
        "- Type casting (also called type conversion) is the process of converting a value from one data type to another."
      ],
      "metadata": {
        "id": "dSOuH8vnA_ry"
      }
    },
    {
      "cell_type": "markdown",
      "source": [
        "10.What is the difference between implicit and explicit type casting?\n",
        "- Implicit Type Casting (Automatic)\n",
        "\n",
        "  Python automatically converts one data type to another when it's safe.\n",
        "  \n",
        "  Explicit Type Casting (Manual)\n",
        "\n",
        "  You manually convert from one type to another using casting functions like int(), float(), str(), etc."
      ],
      "metadata": {
        "id": "sddi3oYSB042"
      }
    },
    {
      "cell_type": "markdown",
      "source": [
        "11.What is the purpose of conditional statements in Python?\n",
        "- The purpose of conditional statements is to let your program make decisions and execute different blocks of code depending on whether a condition is True or False."
      ],
      "metadata": {
        "id": "-sqPQSBDCx3r"
      }
    },
    {
      "cell_type": "markdown",
      "source": [
        "12.How does the elif statement work?\n",
        "- The elif statement stands for \"else if\". It allows you to check multiple conditions after an initial if statement."
      ],
      "metadata": {
        "id": "ymaYNTDyDbHI"
      }
    },
    {
      "cell_type": "markdown",
      "source": [
        "13.What is the difference between for and while loops?\n",
        "- Both for and while loops are used to repeat a block of code, but they are used in different scenarios depending on how the repetition is controlled.\n"
      ],
      "metadata": {
        "id": "snOY88XxD0zl"
      }
    },
    {
      "cell_type": "markdown",
      "source": [
        "14.Describe a scenario where a while loop is more suitable than a for loop.\n",
        "- Scenario: Keep asking the user to enter a password until they enter the correct one."
      ],
      "metadata": {
        "id": "qUARxKoNEfo8"
      }
    },
    {
      "cell_type": "code",
      "source": [
        "# 1.Write a Python program to print \"Hello,World!\"\n",
        "# This is a basic Python program\n",
        "\n",
        "print(\"Hello, World!\")\n",
        "\n"
      ],
      "metadata": {
        "colab": {
          "base_uri": "https://localhost:8080/"
        },
        "id": "oYzglSrPFh8N",
        "outputId": "13b1d63a-b053-49a1-9278-026269959861"
      },
      "execution_count": null,
      "outputs": [
        {
          "output_type": "stream",
          "name": "stdout",
          "text": [
            "Hello, World!\n"
          ]
        }
      ]
    },
    {
      "cell_type": "code",
      "source": [
        "# 2.Write a Python program that displays your name and age.\n",
        "# Python program to display name and age\n",
        "\n",
        "name = \"Suyash\"\n",
        "age = 30\n",
        "\n",
        "print(\"My name is\", name)\n",
        "print(\"I am\", age, \"years old.\")\n"
      ],
      "metadata": {
        "colab": {
          "base_uri": "https://localhost:8080/"
        },
        "id": "ImTF5LikGppI",
        "outputId": "48780ab8-b959-4d14-d546-f3f56573310e"
      },
      "execution_count": null,
      "outputs": [
        {
          "output_type": "stream",
          "name": "stdout",
          "text": [
            "My name is Suyash\n",
            "I am 30 years old.\n"
          ]
        }
      ]
    },
    {
      "cell_type": "code",
      "source": [
        "# 3.Write code to print all the pre-defined keywords in Python using the keyword library.\n",
        "import keyword\n",
        "\n",
        "# Get the list of keywords\n",
        "keywords = keyword.kwlist\n",
        "\n",
        "# Print them\n",
        "print(\"Python Keywords:\")\n",
        "for kw in keywords:\n",
        "    print(kw)\n"
      ],
      "metadata": {
        "colab": {
          "base_uri": "https://localhost:8080/"
        },
        "id": "9A5ZCG50HY78",
        "outputId": "e893a437-aa15-4f3e-c4f7-2312383fd3e6"
      },
      "execution_count": null,
      "outputs": [
        {
          "output_type": "stream",
          "name": "stdout",
          "text": [
            "Python Keywords:\n",
            "False\n",
            "None\n",
            "True\n",
            "and\n",
            "as\n",
            "assert\n",
            "async\n",
            "await\n",
            "break\n",
            "class\n",
            "continue\n",
            "def\n",
            "del\n",
            "elif\n",
            "else\n",
            "except\n",
            "finally\n",
            "for\n",
            "from\n",
            "global\n",
            "if\n",
            "import\n",
            "in\n",
            "is\n",
            "lambda\n",
            "nonlocal\n",
            "not\n",
            "or\n",
            "pass\n",
            "raise\n",
            "return\n",
            "try\n",
            "while\n",
            "with\n",
            "yield\n"
          ]
        }
      ]
    },
    {
      "cell_type": "code",
      "source": [
        "# 4.Write a program that checks if a given word is a Python keyword.\n",
        "import keyword\n",
        "\n",
        "# Ask the user to enter a word\n",
        "word = input(\"Enter a word to check: \")\n",
        "\n",
        "# Check if it's a Python keyword\n",
        "if keyword.iskeyword(word):\n",
        "    print(f\"'{word}' is a Python keyword.\")\n",
        "else:\n",
        "    print(f\"'{word}' is NOT a Python keyword.\")\n"
      ],
      "metadata": {
        "colab": {
          "base_uri": "https://localhost:8080/"
        },
        "id": "PNnMWFtZII3u",
        "outputId": "27051a15-13ab-4acc-8220-77f294e5793a"
      },
      "execution_count": null,
      "outputs": [
        {
          "output_type": "stream",
          "name": "stdout",
          "text": [
            "Enter a word to check: class\n",
            "'class' is a Python keyword.\n"
          ]
        }
      ]
    },
    {
      "cell_type": "code",
      "source": [
        "# 5.Create a list and tuple in Python, and demonstrate how attempting to change an element works differently for each.\n",
        "# Create a list and a tuple\n",
        "my_list = [10, 20, 30]\n",
        "my_tuple = (10, 20, 30)\n",
        "\n",
        "# Modify an element in the list\n",
        "my_list[1] = 200\n",
        "print(\"Modified list:\", my_list)\n",
        "\n",
        "# Try to modify an element in the tuple\n",
        "try:\n",
        "    my_tuple[1] = 200\n",
        "except TypeError as e:\n",
        "    print(\"Error modifying tuple:\", e)\n"
      ],
      "metadata": {
        "colab": {
          "base_uri": "https://localhost:8080/"
        },
        "id": "EerzQ8ZT0rwI",
        "outputId": "f8cb9736-103d-4595-b8ed-318b00dad819"
      },
      "execution_count": 1,
      "outputs": [
        {
          "output_type": "stream",
          "name": "stdout",
          "text": [
            "Modified list: [10, 200, 30]\n",
            "Error modifying tuple: 'tuple' object does not support item assignment\n"
          ]
        }
      ]
    },
    {
      "cell_type": "code",
      "source": [
        "# 6. Write a function to demonstrate the behavior of mutable and immutable arguments.\n",
        "def modify_arguments(a_number, a_list):\n",
        "    print(\"\\nInside function (before modification):\")\n",
        "    print(\"a_number:\", a_number)\n",
        "    print(\"a_list:\", a_list)\n",
        "\n",
        "    a_number += 10        # Try to modify immutable argument (int)\n",
        "    a_list.append(100)    # Modify mutable argument (list)\n",
        "\n",
        "    print(\"\\nInside function (after modification):\")\n",
        "    print(\"a_number:\", a_number)\n",
        "    print(\"a_list:\", a_list)\n",
        "\n",
        "\n",
        "# Immutable and mutable arguments\n",
        "num = 5\n",
        "my_list = [1, 2, 3]\n",
        "\n",
        "print(\"Before function call:\")\n",
        "print(\"num:\", num)\n",
        "print(\"my_list:\", my_list)\n",
        "\n",
        "# Call the function\n",
        "modify_arguments(num, my_list)\n",
        "\n",
        "print(\"\\nAfter function call:\")\n",
        "print(\"num:\", num)         # unchanged (immutable)\n",
        "print(\"my_list:\", my_list) # changed (mutable)\n"
      ],
      "metadata": {
        "colab": {
          "base_uri": "https://localhost:8080/"
        },
        "id": "lOuk6nnk1EeP",
        "outputId": "5ec182a3-0f2f-4db5-bd40-f5a6f902d5c0"
      },
      "execution_count": 2,
      "outputs": [
        {
          "output_type": "stream",
          "name": "stdout",
          "text": [
            "Before function call:\n",
            "num: 5\n",
            "my_list: [1, 2, 3]\n",
            "\n",
            "Inside function (before modification):\n",
            "a_number: 5\n",
            "a_list: [1, 2, 3]\n",
            "\n",
            "Inside function (after modification):\n",
            "a_number: 15\n",
            "a_list: [1, 2, 3, 100]\n",
            "\n",
            "After function call:\n",
            "num: 5\n",
            "my_list: [1, 2, 3, 100]\n"
          ]
        }
      ]
    },
    {
      "cell_type": "code",
      "source": [
        "# 7.Write a program that performs basic arithmetic operations on two user-input numbers.\n",
        "# Basic arithmetic operations program\n",
        "\n",
        "# Get user input\n",
        "num1 = float(input(\"Enter the first number: \"))\n",
        "num2 = float(input(\"Enter the second number: \"))\n",
        "\n",
        "# Perform operations\n",
        "addition = num1 + num2\n",
        "subtraction = num1 - num2\n",
        "multiplication = num1 * num2\n",
        "\n",
        "# Handle division by zero\n",
        "if num2 != 0:\n",
        "    division = num1 / num2\n",
        "else:\n",
        "    division = \"Undefined (division by zero)\"\n",
        "\n",
        "# Display results\n",
        "print(\"\\n--- Results ---\")\n",
        "print(f\"{num1} + {num2} = {addition}\")\n",
        "print(f\"{num1} - {num2} = {subtraction}\")\n",
        "print(f\"{num1} * {num2} = {multiplication}\")\n",
        "print(f\"{num1} / {num2} = {division}\")\n"
      ],
      "metadata": {
        "id": "bXoFv0kW12SP"
      },
      "execution_count": null,
      "outputs": []
    },
    {
      "cell_type": "code",
      "source": [
        "# 8.Write a program to demonstrate the use of logical operators.\n",
        "# Demonstration of logical operators in Python\n",
        "\n",
        "# Get user input\n",
        "age = int(input(\"Enter your age: \"))\n",
        "has_id = input(\"Do you have a valid ID? (yes/no): \").strip().lower()\n",
        "\n",
        "# Convert has_id to boolean\n",
        "has_id_bool = has_id == \"yes\"\n",
        "\n",
        "# Logical AND: must be 18 or older AND have ID\n",
        "can_enter = age >= 18 and has_id_bool\n",
        "\n",
        "# Logical OR: either underage OR no ID\n",
        "restriction = age < 18 or not has_id_bool\n",
        "\n",
        "# Logical NOT: inverse of has_id\n",
        "no_id = not has_id_bool\n",
        "\n",
        "# Display results\n",
        "print(\"\\n--- Logical Operator Results ---\")\n",
        "print(f\"Can enter (age >= 18 AND has ID): {can_enter}\")\n",
        "print(f\"Restricted (age < 18 OR no ID): {restriction}\")\n",
        "print(f\"No ID (NOT has ID): {no_id}\")\n"
      ],
      "metadata": {
        "colab": {
          "base_uri": "https://localhost:8080/"
        },
        "id": "UaMfCvkJ2tuI",
        "outputId": "a9fa935a-5599-4758-a5ca-ce68c556ef7b"
      },
      "execution_count": 4,
      "outputs": [
        {
          "output_type": "stream",
          "name": "stdout",
          "text": [
            "Enter your age: 21\n",
            "Do you have a valid ID? (yes/no): yes\n",
            "\n",
            "--- Logical Operator Results ---\n",
            "Can enter (age >= 18 AND has ID): True\n",
            "Restricted (age < 18 OR no ID): False\n",
            "No ID (NOT has ID): False\n"
          ]
        }
      ]
    },
    {
      "cell_type": "code",
      "source": [
        "# 9.Write a Python program to convert user input from string to integer, float, and boolean types.\n",
        "# Get user input as a string\n",
        "user_input = input(\"Enter a value: \")\n",
        "\n",
        "# Convert to integer\n",
        "try:\n",
        "    int_value = int(user_input)\n",
        "    print(f\"Integer conversion: {int_value}\")\n",
        "except ValueError:\n",
        "    print(\"Integer conversion: Failed (invalid integer)\")\n",
        "\n",
        "# Convert to float\n",
        "try:\n",
        "    float_value = float(user_input)\n",
        "    print(f\"Float conversion: {float_value}\")\n",
        "except ValueError:\n",
        "    print(\"Float conversion: Failed (invalid float)\")\n",
        "\n",
        "# Convert to boolean\n",
        "# Common approach: non-empty strings are True, empty string is False\n",
        "bool_value = bool(user_input.strip())\n",
        "print(f\"Boolean conversion: {bool_value}\")\n"
      ],
      "metadata": {
        "colab": {
          "base_uri": "https://localhost:8080/"
        },
        "id": "S4JDvU8J3j6_",
        "outputId": "c96be17f-e13b-49b8-8131-2c94921b519d"
      },
      "execution_count": 5,
      "outputs": [
        {
          "output_type": "stream",
          "name": "stdout",
          "text": [
            "Enter a value: 94\n",
            "Integer conversion: 94\n",
            "Float conversion: 94.0\n",
            "Boolean conversion: True\n"
          ]
        }
      ]
    },
    {
      "cell_type": "code",
      "source": [
        "# 10.Write code to demonstrate type casting with list elements.\n",
        "# Original list of strings representing numbers\n",
        "string_list = [\"1\", \"2\", \"3.5\", \"4\", \"5.0\", \"not_a_number\"]\n",
        "\n",
        "print(\"Original list:\", string_list)\n",
        "\n",
        "# Convert string list to integers (where possible)\n",
        "int_list = []\n",
        "for item in string_list:\n",
        "    try:\n",
        "        int_list.append(int(float(item)))  # Convert to float first to handle \"3.5\", then to int\n",
        "    except ValueError:\n",
        "        int_list.append(None)  # Use None for items that can't be converted\n",
        "\n",
        "print(\"Converted to integers (with None for invalid items):\", int_list)\n",
        "\n",
        "# Convert string list to floats\n",
        "float_list = []\n",
        "for item in string_list:\n",
        "    try:\n",
        "        float_list.append(float(item))\n",
        "    except ValueError:\n",
        "        float_list.append(None)\n",
        "\n",
        "print(\"Converted to floats (with None for invalid items):\", float_list)\n",
        "\n",
        "# Convert string list to booleans\n",
        "bool_list = [bool(item.strip()) for item in string_list]\n",
        "print(\"Converted to booleans:\", bool_list)\n"
      ],
      "metadata": {
        "colab": {
          "base_uri": "https://localhost:8080/"
        },
        "id": "JDpWxJRm4Oz_",
        "outputId": "127c40bd-1d0e-402e-a51f-ea7d7967133b"
      },
      "execution_count": 6,
      "outputs": [
        {
          "output_type": "stream",
          "name": "stdout",
          "text": [
            "Original list: ['1', '2', '3.5', '4', '5.0', 'not_a_number']\n",
            "Converted to integers (with None for invalid items): [1, 2, 3, 4, 5, None]\n",
            "Converted to floats (with None for invalid items): [1.0, 2.0, 3.5, 4.0, 5.0, None]\n",
            "Converted to booleans: [True, True, True, True, True, True]\n"
          ]
        }
      ]
    },
    {
      "cell_type": "code",
      "source": [
        "# 11.Write a program that checks if a number is positive, negative, or zero.\n",
        "# Get input from the user\n",
        "num = float(input(\"Enter a number: \"))\n",
        "\n",
        "# Check if the number is positive, negative, or zero\n",
        "if num > 0:\n",
        "    print(\"The number is positive.\")\n",
        "elif num < 0:\n",
        "    print(\"The number is negative.\")\n",
        "else:\n",
        "    print(\"The number is zero.\")\n"
      ],
      "metadata": {
        "colab": {
          "base_uri": "https://localhost:8080/"
        },
        "id": "yV0TT1Yi4pdu",
        "outputId": "24e03e99-c1ae-484d-a9bd-46c2599c4af5"
      },
      "execution_count": 8,
      "outputs": [
        {
          "output_type": "stream",
          "name": "stdout",
          "text": [
            "Enter a number: -50\n",
            "The number is negative.\n"
          ]
        }
      ]
    },
    {
      "cell_type": "code",
      "source": [
        "# 12.Write a for loop to print numbers from 1 to 10.\n",
        "for i in range(1, 11):\n",
        "    print(i)\n"
      ],
      "metadata": {
        "colab": {
          "base_uri": "https://localhost:8080/"
        },
        "id": "24V3fFGx5Gd6",
        "outputId": "f9e1aa6c-6ee4-4cb1-9127-f06bbc2a35c5"
      },
      "execution_count": 9,
      "outputs": [
        {
          "output_type": "stream",
          "name": "stdout",
          "text": [
            "1\n",
            "2\n",
            "3\n",
            "4\n",
            "5\n",
            "6\n",
            "7\n",
            "8\n",
            "9\n",
            "10\n"
          ]
        }
      ]
    },
    {
      "cell_type": "code",
      "source": [
        "# 13.Write a Python program to find the sum of all even numbers between 1 and 50.\n",
        "# Initialize sum variable\n",
        "total = 0\n",
        "\n",
        "# Loop through numbers from 1 to 50\n",
        "for num in range(1, 51):\n",
        "    if num % 2 == 0:  # Check if the number is even\n",
        "        total += num\n",
        "\n",
        "print(\"Sum of all even numbers between 1 and 50 is:\", total)\n"
      ],
      "metadata": {
        "colab": {
          "base_uri": "https://localhost:8080/"
        },
        "id": "84kSdgtF5i_f",
        "outputId": "15b8ed7e-7e1e-48ac-e279-3dba64d28f78"
      },
      "execution_count": 10,
      "outputs": [
        {
          "output_type": "stream",
          "name": "stdout",
          "text": [
            "Sum of all even numbers between 1 and 50 is: 650\n"
          ]
        }
      ]
    },
    {
      "cell_type": "code",
      "source": [
        "# 14.Write a program to reverse a string using a while loop.\n",
        "# Get string input from the user\n",
        "user_string = input(\"Enter a string: \")\n",
        "\n",
        "# Initialize variables\n",
        "reversed_string = \"\"\n",
        "index = len(user_string) - 1  # Start from the last character\n",
        "\n",
        "# Loop until index goes below 0\n",
        "while index >= 0:\n",
        "    reversed_string += user_string[index]\n",
        "    index -= 1\n",
        "\n",
        "print(\"Reversed string:\", reversed_string)\n"
      ],
      "metadata": {
        "colab": {
          "base_uri": "https://localhost:8080/"
        },
        "id": "lBW1UrNe6CmN",
        "outputId": "0dcdcd71-54c0-477b-fa31-faba0e4f81cc"
      },
      "execution_count": 11,
      "outputs": [
        {
          "output_type": "stream",
          "name": "stdout",
          "text": [
            "Enter a string: Suyash\n",
            "Reversed string: hsayuS\n"
          ]
        }
      ]
    },
    {
      "cell_type": "code",
      "source": [
        "# 15.Write a Python program to calculate the factorial of a number provided by the user using a while loop.\n",
        "# Get a non-negative integer from the user\n",
        "num = int(input(\"Enter a non-negative integer: \"))\n",
        "\n",
        "# Initialize factorial result and counter\n",
        "factorial = 1\n",
        "counter = num\n",
        "\n",
        "# Handle the case for 0 (0! = 1)\n",
        "if num < 0:\n",
        "    print(\"Factorial is not defined for negative numbers.\")\n",
        "else:\n",
        "    while counter > 1:\n",
        "        factorial *= counter\n",
        "        counter -= 1\n",
        "\n",
        "    print(f\"The factorial of {num} is {factorial}.\")\n"
      ],
      "metadata": {
        "colab": {
          "base_uri": "https://localhost:8080/"
        },
        "id": "Z29N3O4h6dL9",
        "outputId": "0459b167-dd7a-4a41-e6c5-bf25e31859e0"
      },
      "execution_count": 13,
      "outputs": [
        {
          "output_type": "stream",
          "name": "stdout",
          "text": [
            "Enter a non-negative integer: 54\n",
            "The factorial of 54 is 230843697339241380472092742683027581083278564571807941132288000000000000.\n"
          ]
        }
      ]
    }
  ]
}